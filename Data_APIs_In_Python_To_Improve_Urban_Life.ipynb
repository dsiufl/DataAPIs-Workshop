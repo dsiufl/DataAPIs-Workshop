{
 "cells": [
  {
   "cell_type": "code",
   "execution_count": 1,
   "metadata": {
    "collapsed": true
   },
   "outputs": [],
   "source": [
    "%matplotlib inline\n",
    "import json\n",
    "import pandas as pd"
   ]
  },
  {
   "cell_type": "code",
   "execution_count": 2,
   "metadata": {
    "collapsed": true
   },
   "outputs": [],
   "source": [
    "# Read and return the \"api_key\" key from a JSON file\n",
    "def read_key(fn):\n",
    "    with open(fn) as json_file:\n",
    "        data = json.load(json_file)\n",
    "        return data[\"api_key\"]"
   ]
  },
  {
   "cell_type": "markdown",
   "metadata": {},
   "source": [
    "# Using Data APIs in Python to Improve Urban Life\n",
    "\n"
   ]
  },
  {
   "cell_type": "markdown",
   "metadata": {},
   "source": [
    "## First way of using APIs - Python packages that wrap public APIs\n",
    "### Obtaining US Census data with the census package\n",
    "\n",
    "Every 10 years the US conducts a national census. The data collected are extensisve and are aggregated spatially in areas called census tracts. There is a python package for accessing the data through the [APIs served by the Census Bureau](http://www.census.gov/developers/).\n",
    "\n"
   ]
  },
  {
   "cell_type": "code",
   "execution_count": 3,
   "metadata": {
    "collapsed": true
   },
   "outputs": [],
   "source": [
    "# Before running you will need to install the 'census' package with\n",
    "# pip install census\n",
    "from census import Census"
   ]
  },
  {
   "cell_type": "markdown",
   "metadata": {},
   "source": [
    "#### API Keys\n",
    "\n",
    "The Census Bureau's API requires an API key to be able to access it. This is a unique string that is assiged to you so that your API use can be tracked and rate limited if needed. Some data API providers charge money for use of their APIs and keys let them bill the right person. The Python package will pass along your API key to the Census servers.\n",
    "\n",
    "You can get a free [Census Bureau API key here](http://api.census.gov/data/key_signup.html).\n",
    "\n",
    "#### Keeping keys secret\n",
    "\n",
    "API keys are secrets that should not be made public, like a password. Be careful about putting API keys into your code, especially if you commit it to a public code repository like Github. Remember, once you have commited an API key to a version control system, it is there forever. You must cancel your old key and get a new one immediately.\n",
    "\n",
    "One pattern for managing API keys is to put them in a separate file which is excluded from verison control and read them into your code."
   ]
  },
  {
   "cell_type": "code",
   "execution_count": 4,
   "metadata": {
    "collapsed": false
   },
   "outputs": [
    {
     "name": "stdout",
     "output_type": "stream",
     "text": [
      "d91de1bcda\n"
     ]
    }
   ],
   "source": [
    "census_api_key = read_key(\"census.key\")\n",
    "print(census_api_key[0:10])"
   ]
  },
  {
   "cell_type": "markdown",
   "metadata": {},
   "source": [
    "#### Understanding the metadata\n",
    "\n",
    "This package requires you to know a fair amount about how census data is structured and what the various attributes are called. For an example, we'll look at the American Community Survey 5-year data (refered to as [acs5](http://www.census.gov/data/developers/data-sets/acs-5year.html)) and some of the variables related to povery measures including [total population](http://api.census.gov/data/2014/acs5/variables/B01003_001E.json), and [population below the povery level by work experiance](http://api.census.gov/data/2014/acs5/variables/B17009_002E.json). These links takes you to a description of the field including how it is named in the data and that information about data is refered to as \"metadata\"."
   ]
  },
  {
   "cell_type": "markdown",
   "metadata": {
    "collapsed": false
   },
   "source": [
    "Now that we have the package and a key loaded, let's get a couple parameters from the census by census tract for Alachua county. The census uses [FIPS codes](https://en.wikipedia.org/wiki/FIPS_county_code) to tell what state and county data is in."
   ]
  },
  {
   "cell_type": "code",
   "execution_count": 5,
   "metadata": {
    "collapsed": false
   },
   "outputs": [
    {
     "ename": "CensusException",
     "evalue": "There was an error while running your query.  We've logged the error and we'll correct it ASAP.  Sorry for the inconvenience.",
     "output_type": "error",
     "traceback": [
      "\u001b[0;31m---------------------------------------------------------------------------\u001b[0m",
      "\u001b[0;31mCensusException\u001b[0m                           Traceback (most recent call last)",
      "\u001b[0;32m<ipython-input-5-14d40daf64ac>\u001b[0m in \u001b[0;36m<module>\u001b[0;34m()\u001b[0m\n\u001b[1;32m      5\u001b[0m census_data = census_api.acs5.state_county_tract(\n\u001b[1;32m      6\u001b[0m     \u001b[0;34m(\u001b[0m\u001b[0;34m'NAME'\u001b[0m\u001b[0;34m,\u001b[0m \u001b[0;34m'B01003_001E'\u001b[0m\u001b[0;34m,\u001b[0m \u001b[0;34m'B14006_002E'\u001b[0m\u001b[0;34m,\u001b[0m \u001b[0;34m'B17009_002E'\u001b[0m\u001b[0;34m)\u001b[0m\u001b[0;34m,\u001b[0m\u001b[0;34m\u001b[0m\u001b[0m\n\u001b[0;32m----> 7\u001b[0;31m     florida_fips, alachua_fips, Census.ALL)\n\u001b[0m\u001b[1;32m      8\u001b[0m \u001b[0;34m\u001b[0m\u001b[0m\n\u001b[1;32m      9\u001b[0m \u001b[0;32mprint\u001b[0m\u001b[0;34m(\u001b[0m\u001b[0mcensus_data\u001b[0m\u001b[0;34m[\u001b[0m\u001b[0;36m0\u001b[0m\u001b[0;34m:\u001b[0m\u001b[0;36m2\u001b[0m\u001b[0;34m]\u001b[0m\u001b[0;34m)\u001b[0m \u001b[0;31m# just the first two items\u001b[0m\u001b[0;34m\u001b[0m\u001b[0m\n",
      "\u001b[0;32m/usr/local/lib/python2.7/dist-packages/census/core.pyc\u001b[0m in \u001b[0;36mwrapper\u001b[0;34m(self, *args, **kwargs)\u001b[0m\n\u001b[1;32m     62\u001b[0m                 raise UnsupportedYearException(\n\u001b[1;32m     63\u001b[0m                     'geography is not available in {}'.format(year))\n\u001b[0;32m---> 64\u001b[0;31m             \u001b[0;32mreturn\u001b[0m \u001b[0mfunc\u001b[0m\u001b[0;34m(\u001b[0m\u001b[0mself\u001b[0m\u001b[0;34m,\u001b[0m \u001b[0;34m*\u001b[0m\u001b[0margs\u001b[0m\u001b[0;34m,\u001b[0m \u001b[0;34m**\u001b[0m\u001b[0mkwargs\u001b[0m\u001b[0;34m)\u001b[0m\u001b[0;34m\u001b[0m\u001b[0m\n\u001b[0m\u001b[1;32m     65\u001b[0m         \u001b[0mwrapper\u001b[0m\u001b[0;34m.\u001b[0m\u001b[0msupported_years\u001b[0m \u001b[0;34m=\u001b[0m \u001b[0myears\u001b[0m\u001b[0;34m\u001b[0m\u001b[0m\n\u001b[1;32m     66\u001b[0m         \u001b[0;32mreturn\u001b[0m \u001b[0mwrapper\u001b[0m\u001b[0;34m\u001b[0m\u001b[0m\n",
      "\u001b[0;32m/usr/local/lib/python2.7/dist-packages/census/core.pyc\u001b[0m in \u001b[0;36mstate_county_tract\u001b[0;34m(self, fields, state_fips, county_fips, tract, **kwargs)\u001b[0m\n\u001b[1;32m    202\u001b[0m             \u001b[0;34m'for'\u001b[0m\u001b[0;34m:\u001b[0m \u001b[0;34m'tract:{}'\u001b[0m\u001b[0;34m.\u001b[0m\u001b[0mformat\u001b[0m\u001b[0;34m(\u001b[0m\u001b[0mtract\u001b[0m\u001b[0;34m)\u001b[0m\u001b[0;34m,\u001b[0m\u001b[0;34m\u001b[0m\u001b[0m\n\u001b[1;32m    203\u001b[0m             \u001b[0;34m'in'\u001b[0m\u001b[0;34m:\u001b[0m \u001b[0;34m'state:{} county:{}'\u001b[0m\u001b[0;34m.\u001b[0m\u001b[0mformat\u001b[0m\u001b[0;34m(\u001b[0m\u001b[0mstate_fips\u001b[0m\u001b[0;34m,\u001b[0m \u001b[0mcounty_fips\u001b[0m\u001b[0;34m)\u001b[0m\u001b[0;34m,\u001b[0m\u001b[0;34m\u001b[0m\u001b[0m\n\u001b[0;32m--> 204\u001b[0;31m         }, **kwargs)\n\u001b[0m\u001b[1;32m    205\u001b[0m \u001b[0;34m\u001b[0m\u001b[0m\n\u001b[1;32m    206\u001b[0m     \u001b[0;34m@\u001b[0m\u001b[0msupported_years\u001b[0m\u001b[0;34m(\u001b[0m\u001b[0;36m2014\u001b[0m\u001b[0;34m,\u001b[0m \u001b[0;36m2013\u001b[0m\u001b[0;34m,\u001b[0m \u001b[0;36m2012\u001b[0m\u001b[0;34m,\u001b[0m \u001b[0;36m2011\u001b[0m\u001b[0;34m,\u001b[0m \u001b[0;36m2010\u001b[0m\u001b[0;34m)\u001b[0m\u001b[0;34m\u001b[0m\u001b[0m\n",
      "\u001b[0;32m/usr/local/lib/python2.7/dist-packages/census/core.pyc\u001b[0m in \u001b[0;36mget\u001b[0;34m(self, fields, geo, year, **kwargs)\u001b[0m\n\u001b[1;32m    163\u001b[0m \u001b[0;34m\u001b[0m\u001b[0m\n\u001b[1;32m    164\u001b[0m         \u001b[0;32melse\u001b[0m\u001b[0;34m:\u001b[0m\u001b[0;34m\u001b[0m\u001b[0m\n\u001b[0;32m--> 165\u001b[0;31m             \u001b[0;32mraise\u001b[0m \u001b[0mCensusException\u001b[0m\u001b[0;34m(\u001b[0m\u001b[0mresp\u001b[0m\u001b[0;34m.\u001b[0m\u001b[0mtext\u001b[0m\u001b[0;34m)\u001b[0m\u001b[0;34m\u001b[0m\u001b[0m\n\u001b[0m\u001b[1;32m    166\u001b[0m \u001b[0;34m\u001b[0m\u001b[0m\n\u001b[1;32m    167\u001b[0m \u001b[0;34m\u001b[0m\u001b[0m\n",
      "\u001b[0;31mCensusException\u001b[0m: There was an error while running your query.  We've logged the error and we'll correct it ASAP.  Sorry for the inconvenience."
     ]
    }
   ],
   "source": [
    "florida_fips = '12'\n",
    "alachua_fips = '001'\n",
    "\n",
    "census_api = Census(census_api_key)\n",
    "census_data = census_api.acs5.state_county_tract(\n",
    "    ('NAME', 'B01003_001E', 'B14006_002E', 'B17009_002E'), \n",
    "    florida_fips, alachua_fips, Census.ALL)\n",
    "\n",
    "print(census_data[0:2]) # just the first two items"
   ]
  },
  {
   "cell_type": "markdown",
   "metadata": {},
   "source": [
    "What did we get back? The variable ```census_data``` contains a list of Python dictionaries. This is a common representation of data and when we talk about JSON in a few minutes you'll see why data APIs and libraries that work with them often return results like this.\n",
    "\n",
    "Lists are useful but in prior workshops we've seen how useful Pandas dataframes are for manipulating data. Lists of dictionaries is such a common structure that Pandas includes a function to convert it directly to a data frame:"
   ]
  },
  {
   "cell_type": "code",
   "execution_count": 26,
   "metadata": {
    "collapsed": false
   },
   "outputs": [
    {
     "data": {
      "text/html": [
       "<div>\n",
       "<table border=\"1\" class=\"dataframe\">\n",
       "  <thead>\n",
       "    <tr style=\"text-align: right;\">\n",
       "      <th></th>\n",
       "      <th>B01003_001E</th>\n",
       "      <th>B14006_002E</th>\n",
       "      <th>B17009_002E</th>\n",
       "      <th>NAME</th>\n",
       "      <th>county</th>\n",
       "      <th>state</th>\n",
       "      <th>tract</th>\n",
       "    </tr>\n",
       "  </thead>\n",
       "  <tbody>\n",
       "    <tr>\n",
       "      <th>0</th>\n",
       "      <td>7545</td>\n",
       "      <td>4353</td>\n",
       "      <td>4089</td>\n",
       "      <td>Census Tract 2, Alachua County, Florida</td>\n",
       "      <td>001</td>\n",
       "      <td>12</td>\n",
       "      <td>000200</td>\n",
       "    </tr>\n",
       "    <tr>\n",
       "      <th>1</th>\n",
       "      <td>3401</td>\n",
       "      <td>1429</td>\n",
       "      <td>1061</td>\n",
       "      <td>Census Tract 3.01, Alachua County, Florida</td>\n",
       "      <td>001</td>\n",
       "      <td>12</td>\n",
       "      <td>000301</td>\n",
       "    </tr>\n",
       "    <tr>\n",
       "      <th>2</th>\n",
       "      <td>2475</td>\n",
       "      <td>645</td>\n",
       "      <td>292</td>\n",
       "      <td>Census Tract 3.02, Alachua County, Florida</td>\n",
       "      <td>001</td>\n",
       "      <td>12</td>\n",
       "      <td>000302</td>\n",
       "    </tr>\n",
       "    <tr>\n",
       "      <th>3</th>\n",
       "      <td>5785</td>\n",
       "      <td>1238</td>\n",
       "      <td>382</td>\n",
       "      <td>Census Tract 4, Alachua County, Florida</td>\n",
       "      <td>001</td>\n",
       "      <td>12</td>\n",
       "      <td>000400</td>\n",
       "    </tr>\n",
       "    <tr>\n",
       "      <th>4</th>\n",
       "      <td>5247</td>\n",
       "      <td>1477</td>\n",
       "      <td>906</td>\n",
       "      <td>Census Tract 5, Alachua County, Florida</td>\n",
       "      <td>001</td>\n",
       "      <td>12</td>\n",
       "      <td>000500</td>\n",
       "    </tr>\n",
       "  </tbody>\n",
       "</table>\n",
       "</div>"
      ],
      "text/plain": [
       "  B01003_001E B14006_002E B17009_002E  \\\n",
       "0        7545        4353        4089   \n",
       "1        3401        1429        1061   \n",
       "2        2475         645         292   \n",
       "3        5785        1238         382   \n",
       "4        5247        1477         906   \n",
       "\n",
       "                                         NAME county state   tract  \n",
       "0     Census Tract 2, Alachua County, Florida    001    12  000200  \n",
       "1  Census Tract 3.01, Alachua County, Florida    001    12  000301  \n",
       "2  Census Tract 3.02, Alachua County, Florida    001    12  000302  \n",
       "3     Census Tract 4, Alachua County, Florida    001    12  000400  \n",
       "4     Census Tract 5, Alachua County, Florida    001    12  000500  "
      ]
     },
     "execution_count": 26,
     "metadata": {},
     "output_type": "execute_result"
    }
   ],
   "source": [
    "poverty_by_tract = pd.DataFrame.from_dict(census_data)\n",
    "poverty_by_tract.head()"
   ]
  },
  {
   "cell_type": "markdown",
   "metadata": {},
   "source": [
    "Now let's calculate the percentage of the population living in poverty in each census tract. To do that we'll divide the total number living below the poverty line by the total population and put it in a new column of the dataframe. Because our data was returned as strings, we need to convert each one to a float before dividing.\n",
    "\n",
    "Here we're using a common pattern of creating an anonymous function with ```lambda``` and using the data frame method ```apply``` to run it on each row of the data frame. You can read more about [apply here](http://pandas.pydata.org/pandas-docs/stable/generated/pandas.DataFrame.apply.html#pandas.DataFrame.apply)."
   ]
  },
  {
   "cell_type": "code",
   "execution_count": 27,
   "metadata": {
    "collapsed": false
   },
   "outputs": [
    {
     "data": {
      "text/plain": [
       "array([[<matplotlib.axes._subplots.AxesSubplot object at 0x7f3d5abf9bd0>]], dtype=object)"
      ]
     },
     "execution_count": 27,
     "metadata": {},
     "output_type": "execute_result"
    },
    {
     "data": {
      "image/png": "[encoded data removed]",
      "text/plain": [
       "<matplotlib.figure.Figure at 0x7f3d65c97dd0>"
      ]
     },
     "metadata": {},
     "output_type": "display_data"
    }
   ],
   "source": [
    "poverty_by_tract['percent'] = poverty_by_tract.apply(\n",
    "    lambda row: float(row['B17009_002E']) / float(row['B01003_001E']), axis=1)\n",
    "\n",
    "poverty_by_tract.hist(column=\"percent\")"
   ]
  },
  {
   "cell_type": "markdown",
   "metadata": {},
   "source": [
    "This histogram shows the count of census tracts in Alachua county that have each corresponding percent of the population living below the poverty line."
   ]
  },
  {
   "cell_type": "markdown",
   "metadata": {},
   "source": [
    "You can see that the calls to the census package and even the data formating are just a few lines of code however you still need to know quite a lot about how census data is represented in order to use the Python package."
   ]
  },
  {
   "cell_type": "markdown",
   "metadata": {},
   "source": [
    "## Second - What to do if there is no package"
   ]
  },
  {
   "cell_type": "markdown",
   "metadata": {},
   "source": [
    "### Obtaining Gaineville Regional Utilities (GRU) billing data by directly calling Socrata's web API\n",
    "\n",
    "Not all APIs have packages that wrap them. Sometimes, like [Socrata's package](https://pypi.python.org/pypi/sodapy), they exist but don't include the methods you want in your programming language of choice.\n",
    "\n",
    "When someone makes a web-based API, you can interact with it using HTTP requests from Python with the [requests library](http://docs.python-requests.org/en/master/). This is a very full-featured library that will make using the complex parts of the HTTP protocol like data encoding, HTTPS, and authentication very easy.\n",
    "\n",
    "Let's look at how to interact with a web API without a package. We will need to determine four things to get started:\n",
    "\n",
    "1. The API access point. This is the URL where the API requests need to be sent to.\n",
    "1. The API methods. These are often called endpoints and in REST APIs.\n",
    "1. Method parameters that contain any data the methods need to do their job.\n",
    "1. The format of the returned data.\n",
    "\n",
    "For the Socrata API, the API access point is the server run by the City of Gainesville:"
   ]
  },
  {
   "cell_type": "code",
   "execution_count": 8,
   "metadata": {
    "collapsed": true
   },
   "outputs": [],
   "source": [
    "api_access_point = \"https://data.cityofgainesville.org\""
   ]
  },
  {
   "cell_type": "markdown",
   "metadata": {},
   "source": [
    "This is a simple API so the method in this case is just the name of the data set that you want to retieve data from. In other APIs these can be action nouns like \"get\" or \"delete\" or might refer to more complicated operations like \"map\" etc. Notice that datasets are named with a unique string. This is the one for electicity usage by month. You can find these names by clicking the [API link on the dataset's page](https://data.cityofgainesville.org/Environment-Energy/GRU-Customer-Electric-Consumption/gk3k-9435)."
   ]
  },
  {
   "cell_type": "code",
   "execution_count": 9,
   "metadata": {
    "collapsed": true
   },
   "outputs": [],
   "source": [
    "method = \"resource\""
   ]
  },
  {
   "cell_type": "markdown",
   "metadata": {},
   "source": [
    "To get data, we put these all together into a whole URL that we can then retrieve. For the moment let's also add some additional parameters for year and month as well as a cap on how many records will be returned."
   ]
  },
  {
   "cell_type": "code",
   "execution_count": 10,
   "metadata": {
    "collapsed": false
   },
   "outputs": [
    {
     "name": "stdout",
     "output_type": "stream",
     "text": [
      "https://data.cityofgainesville.org/resource/9qim-t8hy.json?year=2016&month=January&$limit=3\n"
     ]
    }
   ],
   "source": [
    "dataset = \"9qim-t8hy\"\n",
    "year = \"2016\"\n",
    "month = \"January\"\n",
    "\n",
    "api_url = (\"{0}/{1}/{2}.json?year={3}&month={4}&$limit=3\"\n",
    "    .format(api_access_point, method, dataset, year, month))\n",
    "print(api_url)"
   ]
  },
  {
   "cell_type": "markdown",
   "metadata": {},
   "source": [
    "Try clicking that link in your browser and see what you get. It will be a bunch of text that looks like this:\n",
    "\n",
    "```\n",
    "[{\"date\":\"2016-01-31T00:00:00.000\",\"kwh_consumption\":\"352\",\"location_1\":{\"type\":\"Point\",\"coordinates\":[-82.375402,29.634124]},\"location_1_address\":\"3527 SW 20TH AVE\",\"location_1_city\":\"GAINESVILLE\",\"location_1_state\":\"FL\",\"month\":\"January\",\"servcity\":\"GAINESVILLE\",\"serviceaddress\":\"3527 SW 20TH AVE APT 1022\",\"year\":\"2016\"}\n",
    ",{\"date\":\"2016-01-31T00:00:00.000\",\"kwh_consumption\":\"687\",\"location_1\":{\"type\":\"Point\",\"coordinates\":[-82.339142,29.671293]},\"location_1_address\":\"2029 NW 13TH ST\",\"location_1_city\":\"GAINESVILLE\",\"location_1_state\":\"FL\",\"month\":\"January\",\"servcity\":\"GAINESVILLE\",\"serviceaddress\":\"2029 NW 13TH ST APT B-103\",\"year\":\"2016\"}\n",
    ",{\"date\":\"2016-01-31T00:00:00.000\",\"kwh_consumption\":\"1113\",\"location_1\":{\"type\":\"Point\",\"coordinates\":[-82.34493,29.68225]},\"location_1_address\":\"3215 1 2 NW 17TH ST\",\"location_1_city\":\"GAINESVILLE\",\"location_1_state\":\"FL\",\"month\":\"January\",\"servcity\":\"GAINESVILLE\",\"serviceaddress\":\"3215 1/2 NW 17TH ST\",\"year\":\"2016\"}]\n",
    "```"
   ]
  },
  {
   "cell_type": "markdown",
   "metadata": {},
   "source": [
    "This looks a lot like the Python code you would use to make a list of dictionaries. In fact it IS valid Python code and that is by design. It is a data interchange format called [JSON](http://www.json.org/) data, Javascript Object Notation. This is a way of representing simple data structures as text in a very compact manner that can be used by many programing languages to make usable variables. It supports arrays and objects for structures and strings and numbers for data types.\n",
    "\n",
    "Notice that the output starts with a \"[\". This indicates that you are getting a list. The next character is a \"{\" which starts an object so you are getting a list of objects. The remaining strings in quotes separated by colons \":\" are the propery names and values in the object.\n",
    "\n",
    "Remember though that JSON is text, we still have to parse it into Python variables. To do that, we'll start by using the ```requests``` library to get the text and then we'll use a method of the library to convert the JSON into a Python list of dictionaries."
   ]
  },
  {
   "cell_type": "code",
   "execution_count": 11,
   "metadata": {
    "collapsed": false
   },
   "outputs": [
    {
     "name": "stdout",
     "output_type": "stream",
     "text": [
      "<type 'list'>\n",
      "[{u'location_1': {u'type': u'Point', u'coordinates': [-82.375402, 29.634124]}, u'kwh_consumption': u'352', u'month': u'January', u'serviceaddress': u'3527 SW 20TH AVE APT 1022', u'location_1_address': u'3527 SW 20TH AVE', u'year': u'2016', u'date': u'2016-01-31T00:00:00.000', u'servcity': u'GAINESVILLE', u'location_1_state': u'FL', u'location_1_city': u'GAINESVILLE'}, {u'location_1': {u'type': u'Point', u'coordinates': [-82.339142, 29.671293]}, u'kwh_consumption': u'687', u'month': u'January', u'serviceaddress': u'2029 NW 13TH ST APT B-103', u'location_1_address': u'2029 NW 13TH ST', u'year': u'2016', u'date': u'2016-01-31T00:00:00.000', u'servcity': u'GAINESVILLE', u'location_1_state': u'FL', u'location_1_city': u'GAINESVILLE'}, {u'location_1': {u'type': u'Point', u'coordinates': [-82.34493, 29.68225]}, u'kwh_consumption': u'1113', u'month': u'January', u'serviceaddress': u'3215 1/2 NW 17TH ST', u'location_1_address': u'3215 1 2 NW 17TH ST', u'year': u'2016', u'date': u'2016-01-31T00:00:00.000', u'servcity': u'GAINESVILLE', u'location_1_state': u'FL', u'location_1_city': u'GAINESVILLE'}]\n"
     ]
    }
   ],
   "source": [
    "import requests\n",
    "r = requests.get(api_url)\n",
    "gru_data = r.json()\n",
    "\n",
    "print(type(gru_data))\n",
    "print(gru_data)"
   ]
  },
  {
   "cell_type": "markdown",
   "metadata": {},
   "source": [
    "This looks like what we got back from the ```census``` package before. \n",
    "\n",
    "You can also see that nesting data is allowed:"
   ]
  },
  {
   "cell_type": "code",
   "execution_count": 12,
   "metadata": {
    "collapsed": false
   },
   "outputs": [
    {
     "name": "stdout",
     "output_type": "stream",
     "text": [
      "{u'type': u'Point', u'coordinates': [-82.375402, 29.634124]}\n"
     ]
    }
   ],
   "source": [
    "print(gru_data[0][\"location_1\"])"
   ]
  },
  {
   "cell_type": "markdown",
   "metadata": {},
   "source": [
    "With the census package we took this list of dictionaries and used a Pandas method to convert it to a data frame. However, requesting simple URLs and getting JSON back is such a common pattern that it's baked in to the Pandas library. You don't need the requests library although requests lets you intereact with much more complex APIs."
   ]
  },
  {
   "cell_type": "code",
   "execution_count": 13,
   "metadata": {
    "collapsed": false
   },
   "outputs": [
    {
     "data": {
      "text/html": [
       "<div>\n",
       "<table border=\"1\" class=\"dataframe\">\n",
       "  <thead>\n",
       "    <tr style=\"text-align: right;\">\n",
       "      <th></th>\n",
       "      <th>date</th>\n",
       "      <th>kwh_consumption</th>\n",
       "      <th>location_1</th>\n",
       "      <th>location_1_address</th>\n",
       "      <th>location_1_city</th>\n",
       "      <th>location_1_state</th>\n",
       "      <th>month</th>\n",
       "      <th>servcity</th>\n",
       "      <th>serviceaddress</th>\n",
       "      <th>year</th>\n",
       "    </tr>\n",
       "  </thead>\n",
       "  <tbody>\n",
       "    <tr>\n",
       "      <th>0</th>\n",
       "      <td>2016-01-31</td>\n",
       "      <td>352</td>\n",
       "      <td>{u'type': u'Point', u'coordinates': [-82.37540...</td>\n",
       "      <td>3527 SW 20TH AVE</td>\n",
       "      <td>GAINESVILLE</td>\n",
       "      <td>FL</td>\n",
       "      <td>January</td>\n",
       "      <td>GAINESVILLE</td>\n",
       "      <td>3527 SW 20TH AVE APT 1022</td>\n",
       "      <td>2016</td>\n",
       "    </tr>\n",
       "    <tr>\n",
       "      <th>1</th>\n",
       "      <td>2016-01-31</td>\n",
       "      <td>687</td>\n",
       "      <td>{u'type': u'Point', u'coordinates': [-82.33914...</td>\n",
       "      <td>2029 NW 13TH ST</td>\n",
       "      <td>GAINESVILLE</td>\n",
       "      <td>FL</td>\n",
       "      <td>January</td>\n",
       "      <td>GAINESVILLE</td>\n",
       "      <td>2029 NW 13TH ST APT B-103</td>\n",
       "      <td>2016</td>\n",
       "    </tr>\n",
       "  </tbody>\n",
       "</table>\n",
       "</div>"
      ],
      "text/plain": [
       "        date  kwh_consumption  \\\n",
       "0 2016-01-31              352   \n",
       "1 2016-01-31              687   \n",
       "\n",
       "                                          location_1 location_1_address  \\\n",
       "0  {u'type': u'Point', u'coordinates': [-82.37540...   3527 SW 20TH AVE   \n",
       "1  {u'type': u'Point', u'coordinates': [-82.33914...    2029 NW 13TH ST   \n",
       "\n",
       "  location_1_city location_1_state    month     servcity  \\\n",
       "0     GAINESVILLE               FL  January  GAINESVILLE   \n",
       "1     GAINESVILLE               FL  January  GAINESVILLE   \n",
       "\n",
       "              serviceaddress  year  \n",
       "0  3527 SW 20TH AVE APT 1022  2016  \n",
       "1  2029 NW 13TH ST APT B-103  2016  "
      ]
     },
     "execution_count": 13,
     "metadata": {},
     "output_type": "execute_result"
    }
   ],
   "source": [
    "gru_dataframe = pd.read_json(api_url)\n",
    "gru_dataframe.head(2)"
   ]
  },
  {
   "cell_type": "markdown",
   "metadata": {},
   "source": [
    "## Thrid - Options for getting data when there is no API\n",
    "\n",
    "### Web scraping\n",
    "\n",
    "Sometimes you can't win. Data may be publicly availible but not through an API or a package. In these cases you will need to get creative. One technique is to scrape web pages by picking out tables or formatted text and making data out of it. [Srapy](https://scrapy.org/) is powerful Python package for doing that.\n",
    "\n",
    "Scraping is an involved task and worth its own workshop.\n",
    "\n",
    "### Obtaining Property Appraiser Data Through Manual Downloads from www.acpafl.org\n",
    "\n",
    "Another technique is to find a common pattern in web URls and incriment or change part of the URL with a loop in Python to walk through a whole dataset. As an example, you can see that this URL for publications hosted on the Internet Archive use the barcode as part of the URL and there is a separate database of barcodes so you can easily make a loop to download everything:\n",
    "\n",
    "[http://www.archive.org/download/CAT31293222/CAT31293222_files.xml](http://www.archive.org/download/CAT31293222/CAT31293222_files.xml)\n",
    "\n",
    "You may also find data is availible in a nice format but the provider has limited what you can download, usually because they don't want their servers to be overloaded. If you want to work around this, please be considerate and limit what you take and also keep a copy locally so you don't have to keep going back to their servers.\n",
    "\n",
    "The [Alachua County Property Appraiser](http://www.acpafl.org/advancedpropertysearch.asp) provides tax value and ownership information of all the properties in the county on their web site. But they limit downloads to only 5000 records and there isn't a nice URL pattern to use to script downloading more. To get a significant amount of data, pick some parameter that you can incriment to make sure you get all records. In this example, I downloaded all single family residences (land use code 00100) in the 32605 zip code in batches by assessed value increments.\n",
    "\n",
    "We can read the CSV files into dataframes and concatenate them."
   ]
  },
  {
   "cell_type": "code",
   "execution_count": 13,
   "metadata": {
    "collapsed": false,
    "scrolled": false
   },
   "outputs": [
    {
     "data": {
      "text/html": [
       "<div>\n",
       "<table border=\"1\" class=\"dataframe\">\n",
       "  <thead>\n",
       "    <tr style=\"text-align: right;\">\n",
       "      <th></th>\n",
       "      <th>Parcel_Num</th>\n",
       "      <th>Owner_Mail_Name</th>\n",
       "      <th>Owner_Mail_CO</th>\n",
       "      <th>Owner_Mail_Addr1</th>\n",
       "      <th>Owner_Mail_Addr2</th>\n",
       "      <th>Owner_Mail_City</th>\n",
       "      <th>Owner_Mail_State</th>\n",
       "      <th>Owner_Mail_Zip</th>\n",
       "      <th>Section</th>\n",
       "      <th>Township</th>\n",
       "      <th>...</th>\n",
       "      <th>School_Exempt_Amount</th>\n",
       "      <th>Tax_Amount</th>\n",
       "      <th>Loc_Address</th>\n",
       "      <th>Sale_Date</th>\n",
       "      <th>Sale_Price</th>\n",
       "      <th>Sale_VacImp</th>\n",
       "      <th>Sale_Qualified</th>\n",
       "      <th>Sale_Book</th>\n",
       "      <th>Sale_Page</th>\n",
       "      <th>Sale_Instrument</th>\n",
       "    </tr>\n",
       "  </thead>\n",
       "  <tbody>\n",
       "    <tr>\n",
       "      <th>0</th>\n",
       "      <td>02048-000-000</td>\n",
       "      <td>MITCHELL, ROSA LEE HEIRS</td>\n",
       "      <td>NaN</td>\n",
       "      <td>% SHIRLEY WASHINGTON</td>\n",
       "      <td>3304 NW 46TH PL</td>\n",
       "      <td>GAINESVILLE</td>\n",
       "      <td>FL</td>\n",
       "      <td>32605</td>\n",
       "      <td>4</td>\n",
       "      <td>10</td>\n",
       "      <td>...</td>\n",
       "      <td>0.0</td>\n",
       "      <td>978.05</td>\n",
       "      <td>25038 NW 3RD AV</td>\n",
       "      <td>01/26/1999</td>\n",
       "      <td>100.0</td>\n",
       "      <td>I</td>\n",
       "      <td>U</td>\n",
       "      <td>2273</td>\n",
       "      <td>2430.0</td>\n",
       "      <td>QD</td>\n",
       "    </tr>\n",
       "    <tr>\n",
       "      <th>1</th>\n",
       "      <td>02404-001-000</td>\n",
       "      <td>COX, SANDRA</td>\n",
       "      <td>NaN</td>\n",
       "      <td>2535 NW 49TH PL</td>\n",
       "      <td>NaN</td>\n",
       "      <td>GAINESVILLE</td>\n",
       "      <td>FL</td>\n",
       "      <td>32605</td>\n",
       "      <td>4</td>\n",
       "      <td>10</td>\n",
       "      <td>...</td>\n",
       "      <td>0.0</td>\n",
       "      <td>789.83</td>\n",
       "      <td>25209 NW 7TH AV</td>\n",
       "      <td>01/18/2008</td>\n",
       "      <td>24000.0</td>\n",
       "      <td>I</td>\n",
       "      <td>U</td>\n",
       "      <td>3739</td>\n",
       "      <td>16.0</td>\n",
       "      <td>SD</td>\n",
       "    </tr>\n",
       "    <tr>\n",
       "      <th>2</th>\n",
       "      <td>03235-013-000</td>\n",
       "      <td>BRILL, JUDITH</td>\n",
       "      <td>NaN</td>\n",
       "      <td>911 NW 37TH DR</td>\n",
       "      <td>NaN</td>\n",
       "      <td>GAINESVILLE</td>\n",
       "      <td>FL</td>\n",
       "      <td>32605</td>\n",
       "      <td>14</td>\n",
       "      <td>8</td>\n",
       "      <td>...</td>\n",
       "      <td>0.0</td>\n",
       "      <td>703.08</td>\n",
       "      <td>15610 NW 133RD TER</td>\n",
       "      <td>07/28/2015</td>\n",
       "      <td>14200.0</td>\n",
       "      <td>I</td>\n",
       "      <td>U</td>\n",
       "      <td>4370</td>\n",
       "      <td>1878.0</td>\n",
       "      <td>SD</td>\n",
       "    </tr>\n",
       "    <tr>\n",
       "      <th>3</th>\n",
       "      <td>04228-000-000</td>\n",
       "      <td>DEGNER, R L &amp; JANET D</td>\n",
       "      <td>NaN</td>\n",
       "      <td>2842 NW 28TH PL</td>\n",
       "      <td>NaN</td>\n",
       "      <td>GAINESVILLE</td>\n",
       "      <td>FL</td>\n",
       "      <td>32605-2705</td>\n",
       "      <td>27</td>\n",
       "      <td>9</td>\n",
       "      <td>...</td>\n",
       "      <td>0.0</td>\n",
       "      <td>1169.14</td>\n",
       "      <td>14821 NW 21ST AV</td>\n",
       "      <td>11/24/1990</td>\n",
       "      <td>28500.0</td>\n",
       "      <td>I</td>\n",
       "      <td>U</td>\n",
       "      <td>1799</td>\n",
       "      <td>1138.0</td>\n",
       "      <td>WD</td>\n",
       "    </tr>\n",
       "    <tr>\n",
       "      <th>4</th>\n",
       "      <td>04463-003-000</td>\n",
       "      <td>STRICKLAND R F</td>\n",
       "      <td>NaN</td>\n",
       "      <td>% FLORIDA REHAB</td>\n",
       "      <td>6700 NW 10TH PL</td>\n",
       "      <td>Gainesville</td>\n",
       "      <td>FL</td>\n",
       "      <td>32605</td>\n",
       "      <td>20</td>\n",
       "      <td>10</td>\n",
       "      <td>...</td>\n",
       "      <td>26000.0</td>\n",
       "      <td>359.89</td>\n",
       "      <td>5006 SW 170TH ST</td>\n",
       "      <td>03/01/1988</td>\n",
       "      <td>25000.0</td>\n",
       "      <td>I</td>\n",
       "      <td>Q</td>\n",
       "      <td>1694</td>\n",
       "      <td>2347.0</td>\n",
       "      <td>SD</td>\n",
       "    </tr>\n",
       "  </tbody>\n",
       "</table>\n",
       "<p>5 rows × 38 columns</p>\n",
       "</div>"
      ],
      "text/plain": [
       "      Parcel_Num           Owner_Mail_Name  Owner_Mail_CO  \\\n",
       "0  02048-000-000  MITCHELL, ROSA LEE HEIRS            NaN   \n",
       "1  02404-001-000               COX, SANDRA            NaN   \n",
       "2  03235-013-000             BRILL, JUDITH            NaN   \n",
       "3  04228-000-000     DEGNER, R L & JANET D            NaN   \n",
       "4  04463-003-000            STRICKLAND R F            NaN   \n",
       "\n",
       "       Owner_Mail_Addr1 Owner_Mail_Addr2 Owner_Mail_City Owner_Mail_State  \\\n",
       "0  % SHIRLEY WASHINGTON  3304 NW 46TH PL     GAINESVILLE               FL   \n",
       "1       2535 NW 49TH PL              NaN     GAINESVILLE               FL   \n",
       "2        911 NW 37TH DR              NaN     GAINESVILLE               FL   \n",
       "3       2842 NW 28TH PL              NaN     GAINESVILLE               FL   \n",
       "4       % FLORIDA REHAB  6700 NW 10TH PL     Gainesville               FL   \n",
       "\n",
       "  Owner_Mail_Zip  Section  Township       ...         School_Exempt_Amount  \\\n",
       "0          32605        4        10       ...                          0.0   \n",
       "1          32605        4        10       ...                          0.0   \n",
       "2          32605       14         8       ...                          0.0   \n",
       "3     32605-2705       27         9       ...                          0.0   \n",
       "4          32605       20        10       ...                      26000.0   \n",
       "\n",
       "   Tax_Amount         Loc_Address   Sale_Date Sale_Price  Sale_VacImp  \\\n",
       "0      978.05     25038 NW 3RD AV  01/26/1999      100.0            I   \n",
       "1      789.83     25209 NW 7TH AV  01/18/2008    24000.0            I   \n",
       "2      703.08  15610 NW 133RD TER  07/28/2015    14200.0            I   \n",
       "3     1169.14    14821 NW 21ST AV  11/24/1990    28500.0            I   \n",
       "4      359.89    5006 SW 170TH ST  03/01/1988    25000.0            I   \n",
       "\n",
       "  Sale_Qualified  Sale_Book  Sale_Page  Sale_Instrument  \n",
       "0              U       2273     2430.0               QD  \n",
       "1              U       3739       16.0               SD  \n",
       "2              U       4370     1878.0               SD  \n",
       "3              U       1799     1138.0               WD  \n",
       "4              Q       1694     2347.0               SD  \n",
       "\n",
       "[5 rows x 38 columns]"
      ]
     },
     "execution_count": 13,
     "metadata": {},
     "output_type": "execute_result"
    }
   ],
   "source": [
    "data1 = pd.read_csv(\"data/32605_00100_0k_50k.csv\")\n",
    "data2 = pd.read_csv(\"data/32605_00100_50k_100k.csv\")\n",
    "data3 = pd.read_csv(\"data/32605_00100_100k_200k.csv\")\n",
    "data4 = pd.read_csv(\"data/32605_00100_200k_300k.csv\")\n",
    "data5 = pd.read_csv(\"data/32605_00100_300k_999k.csv\")\n",
    "\n",
    "\n",
    "appraiser_data = pd.concat([data1, data2, data3, data4, data5])\n",
    "appraiser_data.head()"
   ]
  },
  {
   "cell_type": "markdown",
   "metadata": {},
   "source": [
    "### Distribution of Single Family Residence by Square Footage"
   ]
  },
  {
   "cell_type": "code",
   "execution_count": 14,
   "metadata": {
    "collapsed": false,
    "scrolled": true
   },
   "outputs": [
    {
     "data": {
      "text/plain": [
       "array([[<matplotlib.axes._subplots.AxesSubplot object at 0x7f3d5e02d390>]], dtype=object)"
      ]
     },
     "execution_count": 14,
     "metadata": {},
     "output_type": "execute_result"
    },
    {
     "data": {
      "image/png": "[encoded data removed]",
      "text/plain": [
       "<matplotlib.figure.Figure at 0x7f3d5bf889d0>"
      ]
     },
     "metadata": {},
     "output_type": "display_data"
    }
   ],
   "source": [
    "appraiser_data.hist(\"TotSqFt\")"
   ]
  },
  {
   "cell_type": "markdown",
   "metadata": {},
   "source": [
    "\n",
    "### Geocoding Residences with Google's Service With the geocoder Package\n",
    "\n",
    "Data APIs don't have to just be a source of downloading data, they can perform transformations and calcualtions as well.\n",
    "\n",
    "The appariser data above does not have latitude and longitude in it so we can't plot it on a map. The process of converting a street address into map coordinates is called geocoding and there are many APIs for doing it. There is a Python package called [geocoder](https://pypi.python.org/pypi/geocoder) that wraps many of them up in to an easy to use interface. We will use it with the Google geocoding API to map some of the addresses."
   ]
  },
  {
   "cell_type": "code",
   "execution_count": 15,
   "metadata": {
    "collapsed": false
   },
   "outputs": [
    {
     "data": {
      "text/plain": [
       "{'accuracy': u'ROOFTOP',\n",
       " 'address': u'1604 NW 21 Ave, Gainesville, FL 32605, USA',\n",
       " 'bbox': {'northeast': [29.6736079802915, -82.3409870197085],\n",
       "  'southwest': [29.6709100197085, -82.34368498029151]},\n",
       " 'city': u'Gainesville',\n",
       " 'confidence': 9,\n",
       " 'country': u'US',\n",
       " 'county': u'Alachua County',\n",
       " 'encoding': 'utf-8',\n",
       " 'housenumber': u'1604',\n",
       " 'lat': 29.672259,\n",
       " 'lng': -82.342336,\n",
       " 'location': '1604 NW 21ST AVE GAINESVILLE FL 32605-4062',\n",
       " 'ok': True,\n",
       " 'place': u'ChIJJQ6ZKWOk6IgRTTtpZvrFbxA',\n",
       " 'postal': u'32605',\n",
       " 'provider': 'google',\n",
       " 'quality': u'street_address',\n",
       " 'state': u'FL',\n",
       " 'status': 'OK',\n",
       " 'status_code': 200,\n",
       " 'street': u'NW 21 Ave'}"
      ]
     },
     "execution_count": 15,
     "metadata": {},
     "output_type": "execute_result"
    }
   ],
   "source": [
    "import geocoder\n",
    "\n",
    "google_api_key = read_key(\"google.key\")\n",
    "g = geocoder.google(\"1604 NW 21ST AVE GAINESVILLE FL 32605-4062\", \n",
    "                    key=google_api_key)\n",
    "g.json"
   ]
  },
  {
   "cell_type": "markdown",
   "metadata": {
    "collapsed": false,
    "scrolled": true
   },
   "source": [
    "You can see that the library takes a string that is the street address and returns JSON that contains a lat and lng property.\n",
    "\n",
    "In order to do this to our data frame, we will first make a smaller dataframe with only a few rows. Google limits their API usage to 2000 requests per day. Then we will write a geocoding function and apply it to the dataframe to make a new column of the responses from the geocoding API. Finally we will pull the lat and lng out of those responses into thier own columns."
   ]
  },
  {
   "cell_type": "code",
   "execution_count": 16,
   "metadata": {
    "collapsed": false
   },
   "outputs": [],
   "source": [
    "small_data = appraiser_data[appraiser_data[\"City_Desc\"] == \"Gainesville\"].head()\n",
    "\n",
    "def run_geocode(address):\n",
    "    g = geocoder.google(address, key=google_api_key)\n",
    "    return g.json\n",
    "\n",
    "small_data[\"geocode_response\"] = small_data.apply(lambda row: run_geocode(\" \".join(\n",
    "            [row[\"Loc_Address\"], row[\"City_Desc\"], \"FL\", \"USA\"])), axis=1)\n",
    "\n",
    "small_data[\"lat\"] = small_data.apply(lambda row: row[\"geocode_response\"][\"lat\"], axis=1)\n",
    "small_data[\"lng\"] = small_data.apply(lambda row: row[\"geocode_response\"][\"lng\"], axis=1)"
   ]
  },
  {
   "cell_type": "code",
   "execution_count": 17,
   "metadata": {
    "collapsed": false
   },
   "outputs": [
    {
     "data": {
      "text/html": [
       "<div>\n",
       "<table border=\"1\" class=\"dataframe\">\n",
       "  <thead>\n",
       "    <tr style=\"text-align: right;\">\n",
       "      <th></th>\n",
       "      <th>Parcel_Num</th>\n",
       "      <th>Owner_Mail_Name</th>\n",
       "      <th>Owner_Mail_CO</th>\n",
       "      <th>Owner_Mail_Addr1</th>\n",
       "      <th>Owner_Mail_Addr2</th>\n",
       "      <th>Owner_Mail_City</th>\n",
       "      <th>Owner_Mail_State</th>\n",
       "      <th>Owner_Mail_Zip</th>\n",
       "      <th>Section</th>\n",
       "      <th>Township</th>\n",
       "      <th>...</th>\n",
       "      <th>Sale_Date</th>\n",
       "      <th>Sale_Price</th>\n",
       "      <th>Sale_VacImp</th>\n",
       "      <th>Sale_Qualified</th>\n",
       "      <th>Sale_Book</th>\n",
       "      <th>Sale_Page</th>\n",
       "      <th>Sale_Instrument</th>\n",
       "      <th>geocode_response</th>\n",
       "      <th>lat</th>\n",
       "      <th>lng</th>\n",
       "    </tr>\n",
       "  </thead>\n",
       "  <tbody>\n",
       "    <tr>\n",
       "      <th>7</th>\n",
       "      <td>06014-001-088</td>\n",
       "      <td>MACLEAN &amp; WORLEY</td>\n",
       "      <td>NaN</td>\n",
       "      <td>4232 NW 19TH ST</td>\n",
       "      <td>NaN</td>\n",
       "      <td>GAINESVILLE</td>\n",
       "      <td>FL</td>\n",
       "      <td>32605-1859</td>\n",
       "      <td>13</td>\n",
       "      <td>9</td>\n",
       "      <td>...</td>\n",
       "      <td>05/20/2003</td>\n",
       "      <td>23900.0</td>\n",
       "      <td>I</td>\n",
       "      <td>U</td>\n",
       "      <td>2738</td>\n",
       "      <td>1194.0</td>\n",
       "      <td>DD</td>\n",
       "      <td>{u'encoding': u'utf-8', u'status_code': 200, u...</td>\n",
       "      <td>29.688119</td>\n",
       "      <td>-82.356258</td>\n",
       "    </tr>\n",
       "    <tr>\n",
       "      <th>8</th>\n",
       "      <td>06083-013-029</td>\n",
       "      <td>WALKER C D &amp; SANDRA</td>\n",
       "      <td>NaN</td>\n",
       "      <td>3326 NW 46TH AVE</td>\n",
       "      <td>NaN</td>\n",
       "      <td>GAINESVILLE</td>\n",
       "      <td>FL</td>\n",
       "      <td>32605-1158</td>\n",
       "      <td>24</td>\n",
       "      <td>9</td>\n",
       "      <td>...</td>\n",
       "      <td>08/01/1987</td>\n",
       "      <td>76000.0</td>\n",
       "      <td>I</td>\n",
       "      <td>Q</td>\n",
       "      <td>1676</td>\n",
       "      <td>782.0</td>\n",
       "      <td>WD</td>\n",
       "      <td>{u'neighborhood': u'Northwood', u'encoding': u...</td>\n",
       "      <td>29.697030</td>\n",
       "      <td>-82.371809</td>\n",
       "    </tr>\n",
       "    <tr>\n",
       "      <th>9</th>\n",
       "      <td>06105-088-000</td>\n",
       "      <td>JACOBSON BARRY M &amp; ELAINE M</td>\n",
       "      <td>NaN</td>\n",
       "      <td>2436 NW 37TH TER</td>\n",
       "      <td>NaN</td>\n",
       "      <td>GAINESVILLE</td>\n",
       "      <td>FL</td>\n",
       "      <td>32605</td>\n",
       "      <td>26</td>\n",
       "      <td>9</td>\n",
       "      <td>...</td>\n",
       "      <td>08/31/2001</td>\n",
       "      <td>150000.0</td>\n",
       "      <td>I</td>\n",
       "      <td>Q</td>\n",
       "      <td>2384</td>\n",
       "      <td>1021.0</td>\n",
       "      <td>WD</td>\n",
       "      <td>{u'status': u'OK', u'city': u'Gainesville', u'...</td>\n",
       "      <td>29.675822</td>\n",
       "      <td>-82.379596</td>\n",
       "    </tr>\n",
       "    <tr>\n",
       "      <th>10</th>\n",
       "      <td>06107-839-075</td>\n",
       "      <td>DINH, KHANH</td>\n",
       "      <td>NaN</td>\n",
       "      <td>7819 NW 22ND LN</td>\n",
       "      <td>NaN</td>\n",
       "      <td>GAINESVILLE</td>\n",
       "      <td>FL</td>\n",
       "      <td>32605</td>\n",
       "      <td>26</td>\n",
       "      <td>9</td>\n",
       "      <td>...</td>\n",
       "      <td>09/25/2013</td>\n",
       "      <td>57500.0</td>\n",
       "      <td>I</td>\n",
       "      <td>Q</td>\n",
       "      <td>4230</td>\n",
       "      <td>705.0</td>\n",
       "      <td>WD</td>\n",
       "      <td>{u'status': u'OK', u'city': u'Gainesville', u'...</td>\n",
       "      <td>29.678190</td>\n",
       "      <td>-82.385011</td>\n",
       "    </tr>\n",
       "    <tr>\n",
       "      <th>19</th>\n",
       "      <td>06424-003-000</td>\n",
       "      <td>BERNARD TAMMY L</td>\n",
       "      <td>NaN</td>\n",
       "      <td>1621 NW 26TH WAY</td>\n",
       "      <td>NaN</td>\n",
       "      <td>GAINESVILLE</td>\n",
       "      <td>FL</td>\n",
       "      <td>32605-3860</td>\n",
       "      <td>36</td>\n",
       "      <td>9</td>\n",
       "      <td>...</td>\n",
       "      <td>05/27/1997</td>\n",
       "      <td>136000.0</td>\n",
       "      <td>I</td>\n",
       "      <td>Q</td>\n",
       "      <td>2113</td>\n",
       "      <td>2591.0</td>\n",
       "      <td>WD</td>\n",
       "      <td>{u'neighborhood': u'Brywood, Fox Grove &amp; The M...</td>\n",
       "      <td>29.667425</td>\n",
       "      <td>-82.361601</td>\n",
       "    </tr>\n",
       "  </tbody>\n",
       "</table>\n",
       "<p>5 rows × 41 columns</p>\n",
       "</div>"
      ],
      "text/plain": [
       "       Parcel_Num              Owner_Mail_Name  Owner_Mail_CO  \\\n",
       "7   06014-001-088             MACLEAN & WORLEY            NaN   \n",
       "8   06083-013-029          WALKER C D & SANDRA            NaN   \n",
       "9   06105-088-000  JACOBSON BARRY M & ELAINE M            NaN   \n",
       "10  06107-839-075                  DINH, KHANH            NaN   \n",
       "19  06424-003-000              BERNARD TAMMY L            NaN   \n",
       "\n",
       "    Owner_Mail_Addr1 Owner_Mail_Addr2 Owner_Mail_City Owner_Mail_State  \\\n",
       "7    4232 NW 19TH ST              NaN     GAINESVILLE               FL   \n",
       "8   3326 NW 46TH AVE              NaN     GAINESVILLE               FL   \n",
       "9   2436 NW 37TH TER              NaN     GAINESVILLE               FL   \n",
       "10   7819 NW 22ND LN              NaN     GAINESVILLE               FL   \n",
       "19  1621 NW 26TH WAY              NaN     GAINESVILLE               FL   \n",
       "\n",
       "   Owner_Mail_Zip  Section  Township    ...       Sale_Date  Sale_Price  \\\n",
       "7      32605-1859       13         9    ...      05/20/2003     23900.0   \n",
       "8      32605-1158       24         9    ...      08/01/1987     76000.0   \n",
       "9           32605       26         9    ...      08/31/2001    150000.0   \n",
       "10          32605       26         9    ...      09/25/2013     57500.0   \n",
       "19     32605-3860       36         9    ...      05/27/1997    136000.0   \n",
       "\n",
       "   Sale_VacImp  Sale_Qualified Sale_Book  Sale_Page Sale_Instrument  \\\n",
       "7            I               U      2738     1194.0              DD   \n",
       "8            I               Q      1676      782.0              WD   \n",
       "9            I               Q      2384     1021.0              WD   \n",
       "10           I               Q      4230      705.0              WD   \n",
       "19           I               Q      2113     2591.0              WD   \n",
       "\n",
       "                                     geocode_response        lat        lng  \n",
       "7   {u'encoding': u'utf-8', u'status_code': 200, u...  29.688119 -82.356258  \n",
       "8   {u'neighborhood': u'Northwood', u'encoding': u...  29.697030 -82.371809  \n",
       "9   {u'status': u'OK', u'city': u'Gainesville', u'...  29.675822 -82.379596  \n",
       "10  {u'status': u'OK', u'city': u'Gainesville', u'...  29.678190 -82.385011  \n",
       "19  {u'neighborhood': u'Brywood, Fox Grove & The M...  29.667425 -82.361601  \n",
       "\n",
       "[5 rows x 41 columns]"
      ]
     },
     "execution_count": 17,
     "metadata": {},
     "output_type": "execute_result"
    }
   ],
   "source": [
    "small_data"
   ]
  },
  {
   "cell_type": "markdown",
   "metadata": {},
   "source": [
    "We can map these points using basemap or other Python packages. We'll use a shape file of the census tracts as a background."
   ]
  },
  {
   "cell_type": "code",
   "execution_count": 18,
   "metadata": {
    "collapsed": false
   },
   "outputs": [
    {
     "data": {
      "image/png": "[encoded data removed]",
      "text/plain": [
       "<matplotlib.figure.Figure at 0x7f3d598f7d10>"
      ]
     },
     "metadata": {},
     "output_type": "display_data"
    }
   ],
   "source": [
    "from mpl_toolkits.basemap import Basemap\n",
    "import matplotlib.pyplot as plt\n",
    "\n",
    "my_map = Basemap(llcrnrlon=-82.5,llcrnrlat=29.4,urcrnrlon=-82.1,urcrnrlat=29.8,\n",
    "             resolution='i', projection='tmerc', lat_0 = 29.65, lon_0 = -82.33)\n",
    "my_map.readshapefile(\"data/gz_2010_12_140_00_500k\", \"census_tracts\")\n",
    "\n",
    "\n",
    "x,y = my_map(small_data[\"lng\"].tolist(), small_data[\"lat\"].tolist())\n",
    "\n",
    "my_map.plot(x, y, 'bo', markersize=7)\n",
    "\n",
    "plt.show()"
   ]
  },
  {
   "cell_type": "code",
   "execution_count": null,
   "metadata": {
    "collapsed": true
   },
   "outputs": [],
   "source": []
  }
 ],
 "metadata": {
  "kernelspec": {
   "display_name": "Python 2",
   "language": "python",
   "name": "python2"
  },
  "language_info": {
   "codemirror_mode": {
    "name": "ipython",
    "version": 2
   },
   "file_extension": ".py",
   "mimetype": "text/x-python",
   "name": "python",
   "nbconvert_exporter": "python",
   "pygments_lexer": "ipython2",
   "version": "2.7.12"
  }
 },
 "nbformat": 4,
 "nbformat_minor": 1
}
